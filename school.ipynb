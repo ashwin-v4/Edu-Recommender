{
 "cells": [
  {
   "cell_type": "code",
   "execution_count": 1,
   "id": "5d08fdab",
   "metadata": {},
   "outputs": [],
   "source": [
    "import numpy as np\n",
    "import pandas as pd\n",
    "\n",
    "import matplotlib.pyplot as plt \n",
    "import seaborn as sns\n",
    "\n",
    "import sklearn\n",
    "import torch"
   ]
  },
  {
   "cell_type": "code",
   "execution_count": 2,
   "id": "4b2696a3",
   "metadata": {},
   "outputs": [
    {
     "name": "stderr",
     "output_type": "stream",
     "text": [
      "C:\\Users\\91741\\AppData\\Local\\Temp\\ipykernel_17608\\3083609317.py:1: DtypeWarning: Columns (2,4,6,8,10,18,19,20) have mixed types. Specify dtype option on import or set low_memory=False.\n",
      "  df = pd.read_csv(\"C:/Users/91741/Downloads/udise_schools/udise_schools.csv\")\n"
     ]
    }
   ],
   "source": [
    "df = pd.read_csv(\"C:/Users/91741/Downloads/udise_schools/udise_schools.csv\")"
   ]
  },
  {
   "cell_type": "markdown",
   "id": "0884a6ae",
   "metadata": {},
   "source": [
    "# Exploratory Data Analysis"
   ]
  },
  {
   "cell_type": "code",
   "execution_count": 3,
   "id": "dde13934",
   "metadata": {},
   "outputs": [
    {
     "data": {
      "text/plain": [
       "(1450490, 34)"
      ]
     },
     "execution_count": 3,
     "metadata": {},
     "output_type": "execute_result"
    }
   ],
   "source": [
    "df.shape"
   ]
  },
  {
   "cell_type": "code",
   "execution_count": 4,
   "id": "700271db",
   "metadata": {},
   "outputs": [
    {
     "data": {
      "text/html": [
       "<div>\n",
       "<style scoped>\n",
       "    .dataframe tbody tr th:only-of-type {\n",
       "        vertical-align: middle;\n",
       "    }\n",
       "\n",
       "    .dataframe tbody tr th {\n",
       "        vertical-align: top;\n",
       "    }\n",
       "\n",
       "    .dataframe thead th {\n",
       "        text-align: right;\n",
       "    }\n",
       "</style>\n",
       "<table border=\"1\" class=\"dataframe\">\n",
       "  <thead>\n",
       "    <tr style=\"text-align: right;\">\n",
       "      <th></th>\n",
       "      <th>id</th>\n",
       "      <th>objectid</th>\n",
       "      <th>schcd</th>\n",
       "      <th>schname</th>\n",
       "      <th>schcat</th>\n",
       "      <th>school_cat</th>\n",
       "      <th>schtype</th>\n",
       "      <th>school_typ</th>\n",
       "      <th>schmgt</th>\n",
       "      <th>management</th>\n",
       "      <th>...</th>\n",
       "      <th>sdtname</th>\n",
       "      <th>udise_dtco</th>\n",
       "      <th>udise_vico</th>\n",
       "      <th>dist_lgd</th>\n",
       "      <th>state_lgd</th>\n",
       "      <th>ud_st_n</th>\n",
       "      <th>ud_dt_n</th>\n",
       "      <th>lgd_dt_ud</th>\n",
       "      <th>lon</th>\n",
       "      <th>lat</th>\n",
       "    </tr>\n",
       "  </thead>\n",
       "  <tbody>\n",
       "    <tr>\n",
       "      <th>0</th>\n",
       "      <td>1.0</td>\n",
       "      <td>1</td>\n",
       "      <td>35020300702</td>\n",
       "      <td>GOVT PRIMARY SCHOOL SHASTRI NAGAR</td>\n",
       "      <td>1</td>\n",
       "      <td>Primary</td>\n",
       "      <td>3</td>\n",
       "      <td>Co. Educational</td>\n",
       "      <td>1</td>\n",
       "      <td>Department of Education</td>\n",
       "      <td>...</td>\n",
       "      <td></td>\n",
       "      <td>3502.0</td>\n",
       "      <td>350203007.0</td>\n",
       "      <td>603.0</td>\n",
       "      <td>35.0</td>\n",
       "      <td>35.0</td>\n",
       "      <td>3502.0</td>\n",
       "      <td>603.0</td>\n",
       "      <td>93.892304</td>\n",
       "      <td>6.811454</td>\n",
       "    </tr>\n",
       "    <tr>\n",
       "      <th>1</th>\n",
       "      <td>2.0</td>\n",
       "      <td>2</td>\n",
       "      <td>35020300201</td>\n",
       "      <td>GOVT SECONDARY SCHOOL GANDHI NAGAR</td>\n",
       "      <td>6</td>\n",
       "      <td>Pri. Upper Pri. and Secondary Only</td>\n",
       "      <td>3</td>\n",
       "      <td>Co. Educational</td>\n",
       "      <td>1</td>\n",
       "      <td>Department of Education</td>\n",
       "      <td>...</td>\n",
       "      <td></td>\n",
       "      <td>3502.0</td>\n",
       "      <td>350203002.0</td>\n",
       "      <td>603.0</td>\n",
       "      <td>35.0</td>\n",
       "      <td>35.0</td>\n",
       "      <td>3502.0</td>\n",
       "      <td>603.0</td>\n",
       "      <td>93.890508</td>\n",
       "      <td>6.838517</td>\n",
       "    </tr>\n",
       "  </tbody>\n",
       "</table>\n",
       "<p>2 rows × 34 columns</p>\n",
       "</div>"
      ],
      "text/plain": [
       "    id  objectid        schcd                             schname schcat  \\\n",
       "0  1.0         1  35020300702   GOVT PRIMARY SCHOOL SHASTRI NAGAR      1   \n",
       "1  2.0         2  35020300201  GOVT SECONDARY SCHOOL GANDHI NAGAR      6   \n",
       "\n",
       "                           school_cat schtype       school_typ schmgt  \\\n",
       "0                             Primary       3  Co. Educational      1   \n",
       "1  Pri. Upper Pri. and Secondary Only       3  Co. Educational      1   \n",
       "\n",
       "                management  ... sdtname udise_dtco   udise_vico dist_lgd  \\\n",
       "0  Department of Education  ...             3502.0  350203007.0    603.0   \n",
       "1  Department of Education  ...             3502.0  350203002.0    603.0   \n",
       "\n",
       "   state_lgd ud_st_n ud_dt_n  lgd_dt_ud        lon       lat  \n",
       "0       35.0    35.0  3502.0      603.0  93.892304  6.811454  \n",
       "1       35.0    35.0  3502.0      603.0  93.890508  6.838517  \n",
       "\n",
       "[2 rows x 34 columns]"
      ]
     },
     "execution_count": 4,
     "metadata": {},
     "output_type": "execute_result"
    }
   ],
   "source": [
    "df.head(2)"
   ]
  },
  {
   "cell_type": "code",
   "execution_count": 5,
   "id": "7a71f0d6",
   "metadata": {},
   "outputs": [
    {
     "name": "stdout",
     "output_type": "stream",
     "text": [
      "0\n"
     ]
    },
    {
     "data": {
      "text/plain": [
       "103"
      ]
     },
     "execution_count": 5,
     "metadata": {},
     "output_type": "execute_result"
    }
   ],
   "source": [
    "print(df.duplicated().sum())\n",
    "df.isnull().sum().sum()"
   ]
  },
  {
   "cell_type": "markdown",
   "id": "3d28d6fb",
   "metadata": {},
   "source": [
    "Zero duplicates  \n",
    "3-6 null values in each column, can remove them"
   ]
  },
  {
   "cell_type": "code",
   "execution_count": 6,
   "id": "edfe9207",
   "metadata": {},
   "outputs": [
    {
     "data": {
      "text/plain": [
       "Index(['id', 'objectid', 'schcd', 'schname', 'schcat', 'school_cat', 'schtype',\n",
       "       'school_typ', 'schmgt', 'management', 'rururb', 'location', 'pincode',\n",
       "       'dtname', 'udise_stco', 'stname', 'vilname', 'longitude', 'latitude',\n",
       "       'stcode11', 'dtcode11', 'sdtcode11', 'stname_1', 'dtname_1', 'sdtname',\n",
       "       'udise_dtco', 'udise_vico', 'dist_lgd', 'state_lgd', 'ud_st_n',\n",
       "       'ud_dt_n', 'lgd_dt_ud', 'lon', 'lat'],\n",
       "      dtype='object')"
      ]
     },
     "execution_count": 6,
     "metadata": {},
     "output_type": "execute_result"
    }
   ],
   "source": [
    "df.columns"
   ]
  },
  {
   "cell_type": "code",
   "execution_count": 7,
   "id": "20b66bf1",
   "metadata": {},
   "outputs": [],
   "source": [
    "cat_cols = df.select_dtypes(\"object\").columns\n",
    "num_cols = df.select_dtypes(exclude=\"object\").columns"
   ]
  },
  {
   "cell_type": "code",
   "execution_count": 8,
   "id": "807c45bd",
   "metadata": {},
   "outputs": [
    {
     "data": {
      "text/plain": [
       "Index(['schcd', 'schname', 'schcat', 'school_cat', 'schtype', 'school_typ',\n",
       "       'schmgt', 'management', 'rururb', 'location', 'pincode', 'dtname',\n",
       "       'stname', 'vilname', 'latitude', 'stcode11', 'dtcode11', 'sdtcode11',\n",
       "       'stname_1', 'dtname_1', 'sdtname'],\n",
       "      dtype='object')"
      ]
     },
     "execution_count": 8,
     "metadata": {},
     "output_type": "execute_result"
    }
   ],
   "source": [
    "cat_cols"
   ]
  },
  {
   "cell_type": "code",
   "execution_count": 9,
   "id": "1c48a83a",
   "metadata": {},
   "outputs": [
    {
     "data": {
      "text/plain": [
       "Index(['id', 'objectid', 'udise_stco', 'longitude', 'udise_dtco', 'udise_vico',\n",
       "       'dist_lgd', 'state_lgd', 'ud_st_n', 'ud_dt_n', 'lgd_dt_ud', 'lon',\n",
       "       'lat'],\n",
       "      dtype='object')"
      ]
     },
     "execution_count": 9,
     "metadata": {},
     "output_type": "execute_result"
    }
   ],
   "source": [
    "num_cols"
   ]
  },
  {
   "cell_type": "code",
   "execution_count": 10,
   "id": "5e292ef1",
   "metadata": {},
   "outputs": [
    {
     "data": {
      "text/plain": [
       "schcd         1450490\n",
       "schname       1369182\n",
       "schcat             21\n",
       "school_cat         12\n",
       "schtype             9\n",
       "school_typ          6\n",
       "schmgt             32\n",
       "management         18\n",
       "rururb              6\n",
       "location            2\n",
       "pincode         18641\n",
       "dtname            730\n",
       "stname             38\n",
       "vilname        420209\n",
       "latitude      1072325\n",
       "stcode11           42\n",
       "dtcode11          790\n",
       "sdtcode11           1\n",
       "stname_1           37\n",
       "dtname_1          730\n",
       "sdtname             3\n",
       "dtype: int64"
      ]
     },
     "execution_count": 10,
     "metadata": {},
     "output_type": "execute_result"
    }
   ],
   "source": [
    "df[cat_cols].nunique()"
   ]
  },
  {
   "cell_type": "markdown",
   "id": "0d5ef9c2",
   "metadata": {},
   "source": [
    "udise_stco, state_lgd, ud_st_n are numeric columns with 37 or 38 unique values"
   ]
  },
  {
   "cell_type": "code",
   "execution_count": 11,
   "id": "6d918abd",
   "metadata": {},
   "outputs": [
    {
     "name": "stdout",
     "output_type": "stream",
     "text": [
      "[1 6 3 2 5 7 10 4 8 11 '6' '1' '4' '10' '2' '8' '7' '3' '5' '11' nan\n",
      " 'Co. Educational']\n",
      "[3 1 2 '3' '1' '2' nan 'Private Unaided (Recognized)'\n",
      " 'Madarsa recognized (by Wakf board/Madarsa Board)' 6]\n",
      "[1 2 '2' '1' nan 'RAIPUR' 'MAHASAMUND']\n",
      "[1 5 4 6 8 92 90 93 3 2 94 97 95 96 101 98 91 '4' '3' '1' '5' '8' '6' '97'\n",
      " '90' '2' '98' '93' '92' '95' '101' nan ' ']\n"
     ]
    }
   ],
   "source": [
    "print(df.schcat.unique())\n",
    "print(df.schtype.unique())\n",
    "print(df.rururb.unique())\n",
    "print(df.schmgt.unique())"
   ]
  },
  {
   "cell_type": "markdown",
   "id": "b194f7b8",
   "metadata": {},
   "source": [
    "### Remove these rows to convert to Numeric Columns\n",
    "- schcat - Co. Educational         3\n",
    "- schtype - Private Unaided (Recognized)                              2\n",
    "            Madarsa recognized (by Wakf board/Madarsa Board)          1\n",
    "- schmgt - \" \"\n",
    "- rururb -  RAIPUR              2\n",
    "            MAHASAMUND          1\n",
    "- schcd, latitude, stcode11, dtcode11"
   ]
  },
  {
   "cell_type": "code",
   "execution_count": 12,
   "id": "d467ef7c",
   "metadata": {},
   "outputs": [
    {
     "data": {
      "image/png": "[encoded data removed]",
      "text/plain": [
       "<Figure size 1000x1000 with 2 Axes>"
      ]
     },
     "metadata": {},
     "output_type": "display_data"
    }
   ],
   "source": [
    "fig, ax = plt.subplots(figsize=(10,10))\n",
    "\n",
    "corr = df[num_cols].corr()\n",
    "sns.heatmap(corr, cmap=\"inferno\", annot=True, ax=ax)\n",
    "\n",
    "plt.show()"
   ]
  },
  {
   "cell_type": "code",
   "execution_count": 13,
   "id": "f988a6d9",
   "metadata": {},
   "outputs": [
    {
     "data": {
      "text/html": [
       "<div>\n",
       "<style scoped>\n",
       "    .dataframe tbody tr th:only-of-type {\n",
       "        vertical-align: middle;\n",
       "    }\n",
       "\n",
       "    .dataframe tbody tr th {\n",
       "        vertical-align: top;\n",
       "    }\n",
       "\n",
       "    .dataframe thead th {\n",
       "        text-align: right;\n",
       "    }\n",
       "</style>\n",
       "<table border=\"1\" class=\"dataframe\">\n",
       "  <thead>\n",
       "    <tr style=\"text-align: right;\">\n",
       "      <th></th>\n",
       "      <th>id</th>\n",
       "      <th>objectid</th>\n",
       "      <th>udise_stco</th>\n",
       "      <th>longitude</th>\n",
       "      <th>udise_dtco</th>\n",
       "      <th>udise_vico</th>\n",
       "      <th>dist_lgd</th>\n",
       "      <th>state_lgd</th>\n",
       "      <th>ud_st_n</th>\n",
       "      <th>ud_dt_n</th>\n",
       "      <th>lgd_dt_ud</th>\n",
       "      <th>lon</th>\n",
       "      <th>lat</th>\n",
       "    </tr>\n",
       "  </thead>\n",
       "  <tbody>\n",
       "    <tr>\n",
       "      <th>count</th>\n",
       "      <td>1.450487e+06</td>\n",
       "      <td>1.450490e+06</td>\n",
       "      <td>1.450487e+06</td>\n",
       "      <td>1.450487e+06</td>\n",
       "      <td>1.450487e+06</td>\n",
       "      <td>1.450487e+06</td>\n",
       "      <td>1.450487e+06</td>\n",
       "      <td>1.450487e+06</td>\n",
       "      <td>1.450487e+06</td>\n",
       "      <td>1.450487e+06</td>\n",
       "      <td>1.450484e+06</td>\n",
       "      <td>1.450484e+06</td>\n",
       "      <td>1.450484e+06</td>\n",
       "    </tr>\n",
       "    <tr>\n",
       "      <th>mean</th>\n",
       "      <td>7.258223e+05</td>\n",
       "      <td>7.258208e+05</td>\n",
       "      <td>1.805115e+01</td>\n",
       "      <td>8.040676e+01</td>\n",
       "      <td>1.824467e+03</td>\n",
       "      <td>1.824546e+08</td>\n",
       "      <td>3.374132e+02</td>\n",
       "      <td>1.805178e+01</td>\n",
       "      <td>1.805115e+01</td>\n",
       "      <td>1.824467e+03</td>\n",
       "      <td>3.324600e+02</td>\n",
       "      <td>8.040586e+01</td>\n",
       "      <td>2.310575e+01</td>\n",
       "    </tr>\n",
       "    <tr>\n",
       "      <th>std</th>\n",
       "      <td>4.191243e+05</td>\n",
       "      <td>4.191252e+05</td>\n",
       "      <td>9.263479e+00</td>\n",
       "      <td>5.405808e+00</td>\n",
       "      <td>9.244666e+02</td>\n",
       "      <td>9.244781e+07</td>\n",
       "      <td>1.898143e+02</td>\n",
       "      <td>9.278154e+00</td>\n",
       "      <td>9.263479e+00</td>\n",
       "      <td>9.244666e+02</td>\n",
       "      <td>1.899288e+02</td>\n",
       "      <td>5.365642e+00</td>\n",
       "      <td>5.225547e+00</td>\n",
       "    </tr>\n",
       "    <tr>\n",
       "      <th>min</th>\n",
       "      <td>1.000000e+00</td>\n",
       "      <td>1.000000e+00</td>\n",
       "      <td>1.000000e+00</td>\n",
       "      <td>6.840401e+01</td>\n",
       "      <td>2.200000e+01</td>\n",
       "      <td>0.000000e+00</td>\n",
       "      <td>0.000000e+00</td>\n",
       "      <td>1.000000e+00</td>\n",
       "      <td>1.000000e+00</td>\n",
       "      <td>2.121830e+01</td>\n",
       "      <td>0.000000e+00</td>\n",
       "      <td>6.840401e+01</td>\n",
       "      <td>6.811454e+00</td>\n",
       "    </tr>\n",
       "    <tr>\n",
       "      <th>25%</th>\n",
       "      <td>3.626225e+05</td>\n",
       "      <td>3.626202e+05</td>\n",
       "      <td>9.000000e+00</td>\n",
       "      <td>7.633306e+01</td>\n",
       "      <td>9.420000e+02</td>\n",
       "      <td>9.420604e+07</td>\n",
       "      <td>1.590000e+02</td>\n",
       "      <td>9.000000e+00</td>\n",
       "      <td>9.000000e+00</td>\n",
       "      <td>9.420000e+02</td>\n",
       "      <td>1.580000e+02</td>\n",
       "      <td>7.633306e+01</td>\n",
       "      <td>2.020018e+01</td>\n",
       "    </tr>\n",
       "    <tr>\n",
       "      <th>50%</th>\n",
       "      <td>7.262150e+05</td>\n",
       "      <td>7.262135e+05</td>\n",
       "      <td>1.900000e+01</td>\n",
       "      <td>7.927181e+01</td>\n",
       "      <td>1.922000e+03</td>\n",
       "      <td>1.922041e+08</td>\n",
       "      <td>3.430000e+02</td>\n",
       "      <td>1.900000e+01</td>\n",
       "      <td>1.900000e+01</td>\n",
       "      <td>1.922000e+03</td>\n",
       "      <td>3.380000e+02</td>\n",
       "      <td>7.927180e+01</td>\n",
       "      <td>2.408216e+01</td>\n",
       "    </tr>\n",
       "    <tr>\n",
       "      <th>75%</th>\n",
       "      <td>1.088836e+06</td>\n",
       "      <td>1.088836e+06</td>\n",
       "      <td>2.400000e+01</td>\n",
       "      <td>8.389219e+01</td>\n",
       "      <td>2.432000e+03</td>\n",
       "      <td>2.432031e+08</td>\n",
       "      <td>4.930000e+02</td>\n",
       "      <td>2.400000e+01</td>\n",
       "      <td>2.400000e+01</td>\n",
       "      <td>2.432000e+03</td>\n",
       "      <td>4.900000e+02</td>\n",
       "      <td>8.389210e+01</td>\n",
       "      <td>2.656710e+01</td>\n",
       "    </tr>\n",
       "    <tr>\n",
       "      <th>max</th>\n",
       "      <td>1.451458e+06</td>\n",
       "      <td>1.451458e+06</td>\n",
       "      <td>8.205601e+01</td>\n",
       "      <td>7.210000e+02</td>\n",
       "      <td>3.708000e+03</td>\n",
       "      <td>3.708070e+08</td>\n",
       "      <td>2.212000e+03</td>\n",
       "      <td>3.870000e+02</td>\n",
       "      <td>8.205601e+01</td>\n",
       "      <td>3.708000e+03</td>\n",
       "      <td>7.250000e+02</td>\n",
       "      <td>9.702722e+01</td>\n",
       "      <td>3.503212e+01</td>\n",
       "    </tr>\n",
       "  </tbody>\n",
       "</table>\n",
       "</div>"
      ],
      "text/plain": [
       "                 id      objectid    udise_stco     longitude    udise_dtco  \\\n",
       "count  1.450487e+06  1.450490e+06  1.450487e+06  1.450487e+06  1.450487e+06   \n",
       "mean   7.258223e+05  7.258208e+05  1.805115e+01  8.040676e+01  1.824467e+03   \n",
       "std    4.191243e+05  4.191252e+05  9.263479e+00  5.405808e+00  9.244666e+02   \n",
       "min    1.000000e+00  1.000000e+00  1.000000e+00  6.840401e+01  2.200000e+01   \n",
       "25%    3.626225e+05  3.626202e+05  9.000000e+00  7.633306e+01  9.420000e+02   \n",
       "50%    7.262150e+05  7.262135e+05  1.900000e+01  7.927181e+01  1.922000e+03   \n",
       "75%    1.088836e+06  1.088836e+06  2.400000e+01  8.389219e+01  2.432000e+03   \n",
       "max    1.451458e+06  1.451458e+06  8.205601e+01  7.210000e+02  3.708000e+03   \n",
       "\n",
       "         udise_vico      dist_lgd     state_lgd       ud_st_n       ud_dt_n  \\\n",
       "count  1.450487e+06  1.450487e+06  1.450487e+06  1.450487e+06  1.450487e+06   \n",
       "mean   1.824546e+08  3.374132e+02  1.805178e+01  1.805115e+01  1.824467e+03   \n",
       "std    9.244781e+07  1.898143e+02  9.278154e+00  9.263479e+00  9.244666e+02   \n",
       "min    0.000000e+00  0.000000e+00  1.000000e+00  1.000000e+00  2.121830e+01   \n",
       "25%    9.420604e+07  1.590000e+02  9.000000e+00  9.000000e+00  9.420000e+02   \n",
       "50%    1.922041e+08  3.430000e+02  1.900000e+01  1.900000e+01  1.922000e+03   \n",
       "75%    2.432031e+08  4.930000e+02  2.400000e+01  2.400000e+01  2.432000e+03   \n",
       "max    3.708070e+08  2.212000e+03  3.870000e+02  8.205601e+01  3.708000e+03   \n",
       "\n",
       "          lgd_dt_ud           lon           lat  \n",
       "count  1.450484e+06  1.450484e+06  1.450484e+06  \n",
       "mean   3.324600e+02  8.040586e+01  2.310575e+01  \n",
       "std    1.899288e+02  5.365642e+00  5.225547e+00  \n",
       "min    0.000000e+00  6.840401e+01  6.811454e+00  \n",
       "25%    1.580000e+02  7.633306e+01  2.020018e+01  \n",
       "50%    3.380000e+02  7.927180e+01  2.408216e+01  \n",
       "75%    4.900000e+02  8.389210e+01  2.656710e+01  \n",
       "max    7.250000e+02  9.702722e+01  3.503212e+01  "
      ]
     },
     "execution_count": 13,
     "metadata": {},
     "output_type": "execute_result"
    }
   ],
   "source": [
    "df.describe()"
   ]
  },
  {
   "cell_type": "markdown",
   "id": "5ed071b7",
   "metadata": {},
   "source": [
    "# Data Preprocessing"
   ]
  },
  {
   "cell_type": "code",
   "execution_count": 14,
   "id": "0075924a",
   "metadata": {},
   "outputs": [],
   "source": [
    "df.dropna(inplace=True)"
   ]
  },
  {
   "cell_type": "code",
   "execution_count": 15,
   "id": "f51f046e",
   "metadata": {},
   "outputs": [
    {
     "data": {
      "text/plain": [
       "0"
      ]
     },
     "execution_count": 15,
     "metadata": {},
     "output_type": "execute_result"
    }
   ],
   "source": [
    "df.isnull().sum().sum()"
   ]
  },
  {
   "cell_type": "markdown",
   "id": "0e7dcbd0",
   "metadata": {},
   "source": [
    "stcode11, dtcode11, udise_vico. gpt told to keep"
   ]
  },
  {
   "cell_type": "code",
   "execution_count": 16,
   "id": "3c04ad2a",
   "metadata": {},
   "outputs": [
    {
     "name": "stdout",
     "output_type": "stream",
     "text": [
      "True\n"
     ]
    }
   ],
   "source": [
    "print((df[\"udise_stco\"] == df[\"state_lgd\"]).all() and (df[\"ud_st_n\"] == df[\"udise_stco\"]).all())"
   ]
  },
  {
   "cell_type": "markdown",
   "id": "7e0240de",
   "metadata": {},
   "source": [
    "udise_stco, state_lgd, ud_st_n have same column values. I choose state_lgd.  \n",
    "stcode11 have slightly different values from other 3 columns"
   ]
  },
  {
   "cell_type": "code",
   "execution_count": 17,
   "id": "c2a917e6",
   "metadata": {},
   "outputs": [
    {
     "name": "stdout",
     "output_type": "stream",
     "text": [
      "[ 1.  2.  3.  4.  5.  6.  7.  8.  9. 10. 11. 12. 13. 14. 15. 16. 17. 18.\n",
      " 19. 20. 21. 22. 23. 24. 27. 28. 29. 30. 31. 32. 33. 34. 35. 36. 37.]\n"
     ]
    },
    {
     "data": {
      "text/plain": [
       "array([ 1,  2,  3,  4,  5,  6,  7,  8,  9, 10, 11, 12, 13, 14, 15, 16, 17,\n",
       "       18, 19, 20, 21, 22, 23, 24, 27, 29, 30, 31, 32, 33, 34, 35, 36, 37,\n",
       "       38], dtype=int64)"
      ]
     },
     "execution_count": 17,
     "metadata": {},
     "output_type": "execute_result"
    }
   ],
   "source": [
    "print(np.sort(df[\"state_lgd\"].unique()))\n",
    "\n",
    "np.sort((df[\"stcode11\"].apply(int)).unique())"
   ]
  },
  {
   "cell_type": "markdown",
   "id": "057185d2",
   "metadata": {},
   "source": [
    "No 25, 26, 28 in stcode11. No 25, 26 in state_lgd column"
   ]
  },
  {
   "cell_type": "code",
   "execution_count": 18,
   "id": "9ce40878",
   "metadata": {},
   "outputs": [
    {
     "data": {
      "text/plain": [
       "1295208"
      ]
     },
     "execution_count": 18,
     "metadata": {},
     "output_type": "execute_result"
    }
   ],
   "source": [
    "(df[\"dist_lgd\"] == df[\"lgd_dt_ud\"]).sum()"
   ]
  },
  {
   "cell_type": "markdown",
   "id": "b4267062",
   "metadata": {},
   "source": [
    "dist_lgd and lgd_dt_ud have different values"
   ]
  },
  {
   "cell_type": "markdown",
   "id": "5fa568a2",
   "metadata": {},
   "source": [
    "### Remove these columns\n",
    "- id\n",
    "- schcat\n",
    "- schtype\n",
    "- schmgt\n",
    "- location\n",
    "- longitude\n",
    "- latitude\n",
    "- sdtcode11\n",
    "- stname_1\n",
    "- sdtname\n",
    "- dtname\n",
    "- udise_stco\n",
    "- ud_st_n\n",
    "- ud_dt_n"
   ]
  },
  {
   "cell_type": "code",
   "execution_count": 19,
   "id": "609d9294",
   "metadata": {},
   "outputs": [],
   "source": [
    "new_df = df.drop([\"id\", \"schcat\", \"schtype\", \"schmgt\", \"location\", \"longitude\", \"latitude\", \"sdtcode11\", \"stname_1\", \"sdtname\", \n",
    "                  \"dtname\", \"udise_stco\", \"ud_st_n\", \"ud_dt_n\", \"state_lgd\", \"udise_dtco\", \"dist_lgd\", \"lgd_dt_ud\"], axis=1)"
   ]
  },
  {
   "cell_type": "code",
   "execution_count": 20,
   "id": "7161886c",
   "metadata": {},
   "outputs": [
    {
     "data": {
      "text/html": [
       "<div>\n",
       "<style scoped>\n",
       "    .dataframe tbody tr th:only-of-type {\n",
       "        vertical-align: middle;\n",
       "    }\n",
       "\n",
       "    .dataframe tbody tr th {\n",
       "        vertical-align: top;\n",
       "    }\n",
       "\n",
       "    .dataframe thead th {\n",
       "        text-align: right;\n",
       "    }\n",
       "</style>\n",
       "<table border=\"1\" class=\"dataframe\">\n",
       "  <thead>\n",
       "    <tr style=\"text-align: right;\">\n",
       "      <th></th>\n",
       "      <th>objectid</th>\n",
       "      <th>schcd</th>\n",
       "      <th>schname</th>\n",
       "      <th>school_cat</th>\n",
       "      <th>school_typ</th>\n",
       "      <th>management</th>\n",
       "      <th>rururb</th>\n",
       "      <th>pincode</th>\n",
       "      <th>stname</th>\n",
       "      <th>vilname</th>\n",
       "      <th>stcode11</th>\n",
       "      <th>dtcode11</th>\n",
       "      <th>dtname_1</th>\n",
       "      <th>udise_vico</th>\n",
       "      <th>lon</th>\n",
       "      <th>lat</th>\n",
       "    </tr>\n",
       "  </thead>\n",
       "  <tbody>\n",
       "    <tr>\n",
       "      <th>0</th>\n",
       "      <td>1</td>\n",
       "      <td>35020300702</td>\n",
       "      <td>GOVT PRIMARY SCHOOL SHASTRI NAGAR</td>\n",
       "      <td>Primary</td>\n",
       "      <td>Co. Educational</td>\n",
       "      <td>Department of Education</td>\n",
       "      <td>1</td>\n",
       "      <td>744302</td>\n",
       "      <td>Andaman &amp; Nicobar Islands</td>\n",
       "      <td>VIJAY NAGAR</td>\n",
       "      <td>35</td>\n",
       "      <td>638</td>\n",
       "      <td>Nicobars</td>\n",
       "      <td>350203007.0</td>\n",
       "      <td>93.892304</td>\n",
       "      <td>6.811454</td>\n",
       "    </tr>\n",
       "    <tr>\n",
       "      <th>1</th>\n",
       "      <td>2</td>\n",
       "      <td>35020300201</td>\n",
       "      <td>GOVT SECONDARY SCHOOL GANDHI NAGAR</td>\n",
       "      <td>Pri. Upper Pri. and Secondary Only</td>\n",
       "      <td>Co. Educational</td>\n",
       "      <td>Department of Education</td>\n",
       "      <td>1</td>\n",
       "      <td>744302</td>\n",
       "      <td>Andaman &amp; Nicobar Islands</td>\n",
       "      <td>LAXMINAGAR</td>\n",
       "      <td>35</td>\n",
       "      <td>638</td>\n",
       "      <td>Nicobars</td>\n",
       "      <td>350203002.0</td>\n",
       "      <td>93.890508</td>\n",
       "      <td>6.838517</td>\n",
       "    </tr>\n",
       "  </tbody>\n",
       "</table>\n",
       "</div>"
      ],
      "text/plain": [
       "   objectid        schcd                             schname  \\\n",
       "0         1  35020300702   GOVT PRIMARY SCHOOL SHASTRI NAGAR   \n",
       "1         2  35020300201  GOVT SECONDARY SCHOOL GANDHI NAGAR   \n",
       "\n",
       "                           school_cat       school_typ  \\\n",
       "0                             Primary  Co. Educational   \n",
       "1  Pri. Upper Pri. and Secondary Only  Co. Educational   \n",
       "\n",
       "                management rururb pincode                     stname  \\\n",
       "0  Department of Education      1  744302  Andaman & Nicobar Islands   \n",
       "1  Department of Education      1  744302  Andaman & Nicobar Islands   \n",
       "\n",
       "       vilname stcode11 dtcode11  dtname_1   udise_vico        lon       lat  \n",
       "0  VIJAY NAGAR       35      638  Nicobars  350203007.0  93.892304  6.811454  \n",
       "1   LAXMINAGAR       35      638  Nicobars  350203002.0  93.890508  6.838517  "
      ]
     },
     "execution_count": 20,
     "metadata": {},
     "output_type": "execute_result"
    }
   ],
   "source": [
    "new_df.head(2)"
   ]
  },
  {
   "cell_type": "code",
   "execution_count": 21,
   "id": "d20da367",
   "metadata": {},
   "outputs": [
    {
     "name": "stdout",
     "output_type": "stream",
     "text": [
      "Index(['objectid', 'schcd', 'schname', 'school_cat', 'school_typ',\n",
      "       'management', 'rururb', 'pincode', 'stname', 'vilname', 'stcode11',\n",
      "       'dtcode11', 'dtname_1', 'udise_vico', 'lon', 'lat'],\n",
      "      dtype='object')\n"
     ]
    }
   ],
   "source": [
    "print(new_df.columns)"
   ]
  },
  {
   "cell_type": "code",
   "execution_count": 22,
   "id": "a85593c5",
   "metadata": {},
   "outputs": [
    {
     "name": "stdout",
     "output_type": "stream",
     "text": [
      "<class 'pandas.core.frame.DataFrame'>\n",
      "Index: 1450483 entries, 0 to 1450489\n",
      "Data columns (total 16 columns):\n",
      " #   Column      Non-Null Count    Dtype  \n",
      "---  ------      --------------    -----  \n",
      " 0   objectid    1450483 non-null  int64  \n",
      " 1   schcd       1450483 non-null  object \n",
      " 2   schname     1450483 non-null  object \n",
      " 3   school_cat  1450483 non-null  object \n",
      " 4   school_typ  1450483 non-null  object \n",
      " 5   management  1450483 non-null  object \n",
      " 6   rururb      1450483 non-null  object \n",
      " 7   pincode     1450483 non-null  object \n",
      " 8   stname      1450483 non-null  object \n",
      " 9   vilname     1450483 non-null  object \n",
      " 10  stcode11    1450483 non-null  object \n",
      " 11  dtcode11    1450483 non-null  object \n",
      " 12  dtname_1    1450483 non-null  object \n",
      " 13  udise_vico  1450483 non-null  float64\n",
      " 14  lon         1450483 non-null  float64\n",
      " 15  lat         1450483 non-null  float64\n",
      "dtypes: float64(3), int64(1), object(12)\n",
      "memory usage: 188.1+ MB\n"
     ]
    }
   ],
   "source": [
    "new_df.info()"
   ]
  },
  {
   "cell_type": "markdown",
   "id": "bc785889",
   "metadata": {},
   "source": [
    "### Change Columns Type"
   ]
  },
  {
   "cell_type": "markdown",
   "id": "12c02bc7",
   "metadata": {},
   "source": [
    "rururb, pincode, stcode11, dtcode11 are in object. It must be converted to integer"
   ]
  },
  {
   "cell_type": "code",
   "execution_count": 38,
   "id": "f74906ac",
   "metadata": {},
   "outputs": [
    {
     "data": {
      "text/plain": [
       "array([1, 2, '2', '1'], dtype=object)"
      ]
     },
     "execution_count": 38,
     "metadata": {},
     "output_type": "execute_result"
    }
   ],
   "source": [
    "df[\"rururb\"].unique()"
   ]
  },
  {
   "cell_type": "code",
   "execution_count": null,
   "id": "f1ca4132",
   "metadata": {},
   "outputs": [],
   "source": [
    "new_df[\"rururb\"] = new_df[\"rururb\"].apply(int)\n",
    "new_df[\"rururb\"].unique()"
   ]
  },
  {
   "cell_type": "code",
   "execution_count": 37,
   "id": "07eccbcb",
   "metadata": {},
   "outputs": [
    {
     "data": {
      "text/plain": [
       "array(['744302', '744303', '744304', ..., '193332', '193593', '193003'],\n",
       "      dtype=object)"
      ]
     },
     "execution_count": 37,
     "metadata": {},
     "output_type": "execute_result"
    }
   ],
   "source": [
    "df.pincode.unique()"
   ]
  },
  {
   "cell_type": "code",
   "execution_count": null,
   "id": "147135d3",
   "metadata": {},
   "outputs": [],
   "source": [
    "new_df[\"pincode\"] = df[\"pincode\"].replace(\" \", \"0\")   # Goated function\n",
    "new_df[\"pincode\"] = new_df[\"pincode\"].apply(int)\n",
    "new_df[\"pincode\"].unique()"
   ]
  },
  {
   "cell_type": "code",
   "execution_count": 40,
   "id": "d44e34e7",
   "metadata": {},
   "outputs": [
    {
     "data": {
      "text/plain": [
       "array([35, 33, 31, 32, 34, 29, 37, 30, 27, 36, 22, 21, 24, 23, '27', '22',\n",
       "       '24', '21', '23', 19, '19', 20, 15, 16, 8, 9, 14, 18, 10, 17, 13,\n",
       "       12, 11, 6, 7, 5, 3, 2, 4, 1, 38], dtype=object)"
      ]
     },
     "execution_count": 40,
     "metadata": {},
     "output_type": "execute_result"
    }
   ],
   "source": [
    "new_df.stcode11.unique()"
   ]
  },
  {
   "cell_type": "code",
   "execution_count": 41,
   "id": "a46c1c26",
   "metadata": {},
   "outputs": [
    {
     "data": {
      "text/plain": [
       "array([35, 33, 31, 32, 34, 29, 37, 30, 27, 36, 22, 21, 24, 23, 19, 20, 15,\n",
       "       16,  8,  9, 14, 18, 10, 17, 13, 12, 11,  6,  7,  5,  3,  2,  4,  1,\n",
       "       38], dtype=int64)"
      ]
     },
     "execution_count": 41,
     "metadata": {},
     "output_type": "execute_result"
    }
   ],
   "source": [
    "new_df[\"stcode11\"] = df[\"stcode11\"].apply(int)\n",
    "new_df[\"stcode11\"].unique()"
   ]
  },
  {
   "cell_type": "code",
   "execution_count": 42,
   "id": "14cf6ad8",
   "metadata": {},
   "outputs": [
    {
     "data": {
      "text/plain": [
       "array([638, 629, 628, 587, 601, 627, 600, 790, 599, 626, 598, 625, 597,\n",
       "       596, 624, 622, 623, 595, 621, 612, 620, 594, 632, 618, 614, 633,\n",
       "       619, 593, 640, 613, 592, 637, 616, 609, 610, 615, 591, 617, 611,\n",
       "       608, 590, 789, 578, 636, 589, 635, 607, 630, 577, 576, 606, 639,\n",
       "       588, 631, 573, 787, 584, 788, 575, 574, 604, 786, 554, 572, 605,\n",
       "       571, 581, 603, 583, 602, 570, 569, 582, 568, 550, 566, 553, 551,\n",
       "       567, 563, 564, 565, 586, 552, 561, 549, 562, 560, 555, 585, 559,\n",
       "       529, 530, 548, 547, 556, 744, 745, 746, 557, 580, 545, 546, 781,\n",
       "       539, 538, 528, 748, 634, 531, 579, 537, 541, 743, 747, 527, 526,\n",
       "       753, 544, 536, 751, 742, 740, 752, 558, 749, 525, 741, 535, 540,\n",
       "       723, 399, 543, 520, 524, 521, 780, 736, 542, 750, 534, 417, 739,\n",
       "       398, 511, 522, 738, 416, 533, 523, 737, 414, 735, 508, 513, 389,\n",
       "       734, 519, 396, 517, 388, 518, 733, 512, 397, 532, 722, 415, 395,\n",
       "       514, 732, 515, 510, 509, 387, 390, 516, 386, 413, 720, 500, 502,\n",
       "       385, 380, 394, 381, 412, 491, 408, 393, 501, 504, 499, 379, 719,\n",
       "       391, 383, 392, 503, 384, 489, 382, 490, 505, 498, 506, 507, 729,\n",
       "       370, 378, 493, 480, 492, 411, 409, 372, 410, 479, 481, 375, 497,\n",
       "       377, 467, 373, '497', '507', '408', '409', '410', '411', '479',\n",
       "       '505', '498', '481', '492', '370', '378', '493', '499', '375',\n",
       "       '372', '504', '384', '503', '506', '377', '467', '373', '729',\n",
       "       '392', '501', '383', '480', '500', '478', '721', '376', '457',\n",
       "       '718', '403', '447', '440', 447, 376, 721, 403, 718, 457, 440, 441,\n",
       "       478, 487, 488, 455, 476, 466, 343, 374, 456, 371, 345, '441',\n",
       "       '343', '466', '455', '488', '476', '345', '487', '374', '371',\n",
       "       '456', '405', '726', '407', '406', '477', '344', 407, 344, 477,\n",
       "       405, 406, 728, 726, 717, 486, 776, 731, 448, 465, 368, 287, 438,\n",
       "       404, 288, 474, 475, 337, 357, 341, 449, 482, 454, 484, 402, 437,\n",
       "       367, 727, 439, 453, 369, 342, 286, 483, 485, 464, 445, 365, 791,\n",
       "       338, 452, 339, 401, 461, 340, 366, 468, 446, 793, 715, 451, 435,\n",
       "       336, 364, 730, 335, 290, 400, 473, 460, 284, 471, 125, 725, 285,\n",
       "       444, 434, 436, 716, 428, 427, 431, 795, 472, 281, 709, 707, 356,\n",
       "       450, 283, 359, 124, 443, 355, 777, 470, 361, 291, 442, 794, 131,\n",
       "       724, 334, 346, 354, 360, 347, 292, 333, 289, 708, 129, 433, 363,\n",
       "       463, 462, 130, 358, 426, 469, 200, 280, 282, 349, 458, 429, 274,\n",
       "       362, 710, 350, 772, 425, 769, 318, 768, 432, 167, 459, 317, 353,\n",
       "       275, 348, 126, 236, 117, 430, 238, 128, 316, 424, 235, 351, 234,\n",
       "       770, 277, 237, 771, 276, 225, 127, 233, 766, 199, 767, 116, 278,\n",
       "       273, 115, 332, 352, 196, 123, 118, 423, 175, 279, 226, 171, 227,\n",
       "       315, 229, 228, 170, 239, 714, 121, 169, 122, 240, 224, 422, 166,\n",
       "       299, 298, 295, 231, 331, 713, 197, 198, 272, 782, 293, 230, 271,\n",
       "       212, 330, 174, 232, 222, 223, 711, 418, 195, 296, 194, 211, 294,\n",
       "       172, 213, 221, 758, 168, 220, 266, 270, 314, 193, 173, 214, 219,\n",
       "       191, 269, 297, 265, 119, 120, 421, 712, 757, 215, 321, 108, 263,\n",
       "       165, 192, 158, 759, 113, 301, 302, 419, 218, 216, 313, 420, 267,\n",
       "       706, 164, 210, 209, 305, 329, 179, 264, 208, 322, 207, 114, 304,\n",
       "       107, 303, 190, 163, 300, 156, 178, 323, 319, 262, 217, 325, 188,\n",
       "       206, 328, 204, 205, 261, 312, 106, 268, 162, 109, 774, 177, 186,\n",
       "       112, 320, 324, 161, 110, 327, 326, 306, 157, 176, 189, 185, 203,\n",
       "       756, 761, 105, 146, 311, 160, 183, 307, 254, 775, 760, 147, 187,\n",
       "       155, 755, 783, 248, 148, 253, 246, 184, 182, 104, 180, 243, 310,\n",
       "       154, 242, 111, 247, 159, 244, 101, 145, 309, 144, 308, 201, 255,\n",
       "       241, 181, 102, 152, 245, 778, 762, 202, 143, 103, 779, 763, 87,\n",
       "       149, 256, 153, 259, 784, 84, 249, 251, 260, 89, 258, 85, 250, 764,\n",
       "       150, 142, 754, 141, 151, 252, 86, 88, 83, 765, 81, 136, 98, 257,\n",
       "       137, 135, 703, 94, 785, 97, 705, 93, 96, 140, 95, 702, 90, 92, 91,\n",
       "       82, 99, 138, 67, 139, 76, 100, 80, 65, 134, 66, 77, 75, 133, 79,\n",
       "       78, 704, 64, 74, 62, 61, 73, 47, 132, 68, 63, 53, 46, 48, 72, 44,\n",
       "       57, 71, 701, 60, 59, 70, 54, 58, 52, 45, 32, 69, 40, 56, 42, 41,\n",
       "       43, 55, 51, 31, 33, 39, 37, 50, 38, 36, 30, 27, 29, 26, 34, 28, 49,\n",
       "       35, 24, 25, 773, 23, 7, 22, 21, 19, 3, 20, 16, 6, 991, 4, 17, 18,\n",
       "       14, 5, 15, 13, 2, 12, 8, 10, 11, 9, 1, 992], dtype=object)"
      ]
     },
     "execution_count": 42,
     "metadata": {},
     "output_type": "execute_result"
    }
   ],
   "source": [
    "new_df.dtcode11.unique()"
   ]
  },
  {
   "cell_type": "code",
   "execution_count": 43,
   "id": "7bdb40c8",
   "metadata": {},
   "outputs": [
    {
     "data": {
      "text/plain": [
       "array([638, 629, 628, 587, 601, 627, 600, 790, 599, 626, 598, 625, 597,\n",
       "       596, 624, 622, 623, 595, 621, 612, 620, 594, 632, 618, 614, 633,\n",
       "       619, 593, 640, 613, 592, 637, 616, 609, 610, 615, 591, 617, 611,\n",
       "       608, 590, 789, 578, 636, 589, 635, 607, 630, 577, 576, 606, 639,\n",
       "       588, 631, 573, 787, 584, 788, 575, 574, 604, 786, 554, 572, 605,\n",
       "       571, 581, 603, 583, 602, 570, 569, 582, 568, 550, 566, 553, 551,\n",
       "       567, 563, 564, 565, 586, 552, 561, 549, 562, 560, 555, 585, 559,\n",
       "       529, 530, 548, 547, 556, 744, 745, 746, 557, 580, 545, 546, 781,\n",
       "       539, 538, 528, 748, 634, 531, 579, 537, 541, 743, 747, 527, 526,\n",
       "       753, 544, 536, 751, 742, 740, 752, 558, 749, 525, 741, 535, 540,\n",
       "       723, 399, 543, 520, 524, 521, 780, 736, 542, 750, 534, 417, 739,\n",
       "       398, 511, 522, 738, 416, 533, 523, 737, 414, 735, 508, 513, 389,\n",
       "       734, 519, 396, 517, 388, 518, 733, 512, 397, 532, 722, 415, 395,\n",
       "       514, 732, 515, 510, 509, 387, 390, 516, 386, 413, 720, 500, 502,\n",
       "       385, 380, 394, 381, 412, 491, 408, 393, 501, 504, 499, 379, 719,\n",
       "       391, 383, 392, 503, 384, 489, 382, 490, 505, 498, 506, 507, 729,\n",
       "       370, 378, 493, 480, 492, 411, 409, 372, 410, 479, 481, 375, 497,\n",
       "       377, 467, 373, 478, 721, 376, 457, 718, 403, 447, 440, 441, 487,\n",
       "       488, 455, 476, 466, 343, 374, 456, 371, 345, 405, 726, 407, 406,\n",
       "       477, 344, 728, 717, 486, 776, 731, 448, 465, 368, 287, 438, 404,\n",
       "       288, 474, 475, 337, 357, 341, 449, 482, 454, 484, 402, 437, 367,\n",
       "       727, 439, 453, 369, 342, 286, 483, 485, 464, 445, 365, 791, 338,\n",
       "       452, 339, 401, 461, 340, 366, 468, 446, 793, 715, 451, 435, 336,\n",
       "       364, 730, 335, 290, 400, 473, 460, 284, 471, 125, 725, 285, 444,\n",
       "       434, 436, 716, 428, 427, 431, 795, 472, 281, 709, 707, 356, 450,\n",
       "       283, 359, 124, 443, 355, 777, 470, 361, 291, 442, 794, 131, 724,\n",
       "       334, 346, 354, 360, 347, 292, 333, 289, 708, 129, 433, 363, 463,\n",
       "       462, 130, 358, 426, 469, 200, 280, 282, 349, 458, 429, 274, 362,\n",
       "       710, 350, 772, 425, 769, 318, 768, 432, 167, 459, 317, 353, 275,\n",
       "       348, 126, 236, 117, 430, 238, 128, 316, 424, 235, 351, 234, 770,\n",
       "       277, 237, 771, 276, 225, 127, 233, 766, 199, 767, 116, 278, 273,\n",
       "       115, 332, 352, 196, 123, 118, 423, 175, 279, 226, 171, 227, 315,\n",
       "       229, 228, 170, 239, 714, 121, 169, 122, 240, 224, 422, 166, 299,\n",
       "       298, 295, 231, 331, 713, 197, 198, 272, 782, 293, 230, 271, 212,\n",
       "       330, 174, 232, 222, 223, 711, 418, 195, 296, 194, 211, 294, 172,\n",
       "       213, 221, 758, 168, 220, 266, 270, 314, 193, 173, 214, 219, 191,\n",
       "       269, 297, 265, 119, 120, 421, 712, 757, 215, 321, 108, 263, 165,\n",
       "       192, 158, 759, 113, 301, 302, 419, 218, 216, 313, 420, 267, 706,\n",
       "       164, 210, 209, 305, 329, 179, 264, 208, 322, 207, 114, 304, 107,\n",
       "       303, 190, 163, 300, 156, 178, 323, 319, 262, 217, 325, 188, 206,\n",
       "       328, 204, 205, 261, 312, 106, 268, 162, 109, 774, 177, 186, 112,\n",
       "       320, 324, 161, 110, 327, 326, 306, 157, 176, 189, 185, 203, 756,\n",
       "       761, 105, 146, 311, 160, 183, 307, 254, 775, 760, 147, 187, 155,\n",
       "       755, 783, 248, 148, 253, 246, 184, 182, 104, 180, 243, 310, 154,\n",
       "       242, 111, 247, 159, 244, 101, 145, 309, 144, 308, 201, 255, 241,\n",
       "       181, 102, 152, 245, 778, 762, 202, 143, 103, 779, 763,  87, 149,\n",
       "       256, 153, 259, 784,  84, 249, 251, 260,  89, 258,  85, 250, 764,\n",
       "       150, 142, 754, 141, 151, 252,  86,  88,  83, 765,  81, 136,  98,\n",
       "       257, 137, 135, 703,  94, 785,  97, 705,  93,  96, 140,  95, 702,\n",
       "        90,  92,  91,  82,  99, 138,  67, 139,  76, 100,  80,  65, 134,\n",
       "        66,  77,  75, 133,  79,  78, 704,  64,  74,  62,  61,  73,  47,\n",
       "       132,  68,  63,  53,  46,  48,  72,  44,  57,  71, 701,  60,  59,\n",
       "        70,  54,  58,  52,  45,  32,  69,  40,  56,  42,  41,  43,  55,\n",
       "        51,  31,  33,  39,  37,  50,  38,  36,  30,  27,  29,  26,  34,\n",
       "        28,  49,  35,  24,  25, 773,  23,   7,  22,  21,  19,   3,  20,\n",
       "        16,   6, 991,   4,  17,  18,  14,   5,  15,  13,   2,  12,   8,\n",
       "        10,  11,   9,   1, 992], dtype=int64)"
      ]
     },
     "execution_count": 43,
     "metadata": {},
     "output_type": "execute_result"
    }
   ],
   "source": [
    "new_df[\"dtcode11\"] = df[\"dtcode11\"].apply(int)\n",
    "new_df[\"dtcode11\"].unique()"
   ]
  },
  {
   "cell_type": "code",
   "execution_count": 44,
   "id": "65ee4297",
   "metadata": {},
   "outputs": [
    {
     "name": "stdout",
     "output_type": "stream",
     "text": [
      "<class 'pandas.core.frame.DataFrame'>\n",
      "Index: 1450483 entries, 0 to 1450489\n",
      "Data columns (total 16 columns):\n",
      " #   Column      Non-Null Count    Dtype  \n",
      "---  ------      --------------    -----  \n",
      " 0   objectid    1450483 non-null  int64  \n",
      " 1   schcd       1450483 non-null  object \n",
      " 2   schname     1450483 non-null  object \n",
      " 3   school_cat  1450483 non-null  object \n",
      " 4   school_typ  1450483 non-null  object \n",
      " 5   management  1450483 non-null  object \n",
      " 6   rururb      1450483 non-null  int64  \n",
      " 7   pincode     1450483 non-null  int64  \n",
      " 8   stname      1450483 non-null  object \n",
      " 9   vilname     1450483 non-null  object \n",
      " 10  stcode11    1450483 non-null  int64  \n",
      " 11  dtcode11    1450483 non-null  int64  \n",
      " 12  dtname_1    1450483 non-null  object \n",
      " 13  udise_vico  1450483 non-null  float64\n",
      " 14  lon         1450483 non-null  float64\n",
      " 15  lat         1450483 non-null  float64\n",
      "dtypes: float64(3), int64(5), object(8)\n",
      "memory usage: 188.1+ MB\n"
     ]
    }
   ],
   "source": [
    "new_df.info()"
   ]
  },
  {
   "cell_type": "code",
   "execution_count": 45,
   "id": "3c047ce6",
   "metadata": {},
   "outputs": [
    {
     "data": {
      "text/html": [
       "<div>\n",
       "<style scoped>\n",
       "    .dataframe tbody tr th:only-of-type {\n",
       "        vertical-align: middle;\n",
       "    }\n",
       "\n",
       "    .dataframe tbody tr th {\n",
       "        vertical-align: top;\n",
       "    }\n",
       "\n",
       "    .dataframe thead th {\n",
       "        text-align: right;\n",
       "    }\n",
       "</style>\n",
       "<table border=\"1\" class=\"dataframe\">\n",
       "  <thead>\n",
       "    <tr style=\"text-align: right;\">\n",
       "      <th></th>\n",
       "      <th>objectid</th>\n",
       "      <th>schcd</th>\n",
       "      <th>schname</th>\n",
       "      <th>school_cat</th>\n",
       "      <th>school_typ</th>\n",
       "      <th>management</th>\n",
       "      <th>rururb</th>\n",
       "      <th>pincode</th>\n",
       "      <th>stname</th>\n",
       "      <th>vilname</th>\n",
       "      <th>stcode11</th>\n",
       "      <th>dtcode11</th>\n",
       "      <th>dtname_1</th>\n",
       "      <th>udise_vico</th>\n",
       "      <th>lon</th>\n",
       "      <th>lat</th>\n",
       "    </tr>\n",
       "  </thead>\n",
       "  <tbody>\n",
       "    <tr>\n",
       "      <th>0</th>\n",
       "      <td>1</td>\n",
       "      <td>35020300702</td>\n",
       "      <td>GOVT PRIMARY SCHOOL SHASTRI NAGAR</td>\n",
       "      <td>Primary</td>\n",
       "      <td>Co. Educational</td>\n",
       "      <td>Department of Education</td>\n",
       "      <td>1</td>\n",
       "      <td>744302</td>\n",
       "      <td>Andaman &amp; Nicobar Islands</td>\n",
       "      <td>VIJAY NAGAR</td>\n",
       "      <td>35</td>\n",
       "      <td>638</td>\n",
       "      <td>Nicobars</td>\n",
       "      <td>350203007.0</td>\n",
       "      <td>93.892304</td>\n",
       "      <td>6.811454</td>\n",
       "    </tr>\n",
       "    <tr>\n",
       "      <th>1</th>\n",
       "      <td>2</td>\n",
       "      <td>35020300201</td>\n",
       "      <td>GOVT SECONDARY SCHOOL GANDHI NAGAR</td>\n",
       "      <td>Pri. Upper Pri. and Secondary Only</td>\n",
       "      <td>Co. Educational</td>\n",
       "      <td>Department of Education</td>\n",
       "      <td>1</td>\n",
       "      <td>744302</td>\n",
       "      <td>Andaman &amp; Nicobar Islands</td>\n",
       "      <td>LAXMINAGAR</td>\n",
       "      <td>35</td>\n",
       "      <td>638</td>\n",
       "      <td>Nicobars</td>\n",
       "      <td>350203002.0</td>\n",
       "      <td>93.890508</td>\n",
       "      <td>6.838517</td>\n",
       "    </tr>\n",
       "    <tr>\n",
       "      <th>2</th>\n",
       "      <td>3</td>\n",
       "      <td>35020300703</td>\n",
       "      <td>GOVT PRIMARY SCHOOL LAXMI NAGAR</td>\n",
       "      <td>Primary</td>\n",
       "      <td>Co. Educational</td>\n",
       "      <td>Department of Education</td>\n",
       "      <td>1</td>\n",
       "      <td>744302</td>\n",
       "      <td>Andaman &amp; Nicobar Islands</td>\n",
       "      <td>VIJAY NAGAR</td>\n",
       "      <td>35</td>\n",
       "      <td>638</td>\n",
       "      <td>Nicobars</td>\n",
       "      <td>350203007.0</td>\n",
       "      <td>93.886408</td>\n",
       "      <td>6.893214</td>\n",
       "    </tr>\n",
       "  </tbody>\n",
       "</table>\n",
       "</div>"
      ],
      "text/plain": [
       "   objectid        schcd                             schname  \\\n",
       "0         1  35020300702   GOVT PRIMARY SCHOOL SHASTRI NAGAR   \n",
       "1         2  35020300201  GOVT SECONDARY SCHOOL GANDHI NAGAR   \n",
       "2         3  35020300703     GOVT PRIMARY SCHOOL LAXMI NAGAR   \n",
       "\n",
       "                           school_cat       school_typ  \\\n",
       "0                             Primary  Co. Educational   \n",
       "1  Pri. Upper Pri. and Secondary Only  Co. Educational   \n",
       "2                             Primary  Co. Educational   \n",
       "\n",
       "                management  rururb  pincode                     stname  \\\n",
       "0  Department of Education       1   744302  Andaman & Nicobar Islands   \n",
       "1  Department of Education       1   744302  Andaman & Nicobar Islands   \n",
       "2  Department of Education       1   744302  Andaman & Nicobar Islands   \n",
       "\n",
       "       vilname  stcode11  dtcode11  dtname_1   udise_vico        lon       lat  \n",
       "0  VIJAY NAGAR        35       638  Nicobars  350203007.0  93.892304  6.811454  \n",
       "1   LAXMINAGAR        35       638  Nicobars  350203002.0  93.890508  6.838517  \n",
       "2  VIJAY NAGAR        35       638  Nicobars  350203007.0  93.886408  6.893214  "
      ]
     },
     "execution_count": 45,
     "metadata": {},
     "output_type": "execute_result"
    }
   ],
   "source": [
    "new_df.head(3)"
   ]
  },
  {
   "cell_type": "code",
   "execution_count": null,
   "id": "c9f8811a",
   "metadata": {},
   "outputs": [],
   "source": []
  }
 ],
 "metadata": {
  "kernelspec": {
   "display_name": "Python (pytorch_vision)",
   "language": "python",
   "name": "pytorch_vision"
  },
  "language_info": {
   "codemirror_mode": {
    "name": "ipython",
    "version": 3
   },
   "file_extension": ".py",
   "mimetype": "text/x-python",
   "name": "python",
   "nbconvert_exporter": "python",
   "pygments_lexer": "ipython3",
   "version": "3.12.3"
  }
 },
 "nbformat": 4,
 "nbformat_minor": 5
}
